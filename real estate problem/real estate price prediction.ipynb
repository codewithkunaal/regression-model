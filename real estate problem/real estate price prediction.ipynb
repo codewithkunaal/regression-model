{
 "cells": [
  {
   "cell_type": "markdown",
   "id": "0bce4d4a",
   "metadata": {},
   "source": [
    "#problem - a real time house price predictor regressive model  "
   ]
  },
  {
   "cell_type": "code",
   "execution_count": 1,
   "id": "0be51d87",
   "metadata": {},
   "outputs": [],
   "source": [
    "#importing req models and modules \n",
    "import pandas as pd\n",
    "import matplotlib.pyplot as plt\n",
    "import numpy as np \n",
    "from pandas.plotting import scatter_matrix\n",
    "from sklearn.pipeline import Pipeline\n",
    "from sklearn.impute import SimpleImputer\n",
    "from sklearn.preprocessing import StandardScaler\n",
    "from sklearn.linear_model import LinearRegression\n",
    "from sklearn.metrics import mean_squared_error\n",
    "from sklearn.model_selection import cross_val_score\n"
   ]
  },
  {
   "cell_type": "code",
   "execution_count": 2,
   "id": "d05025fb",
   "metadata": {},
   "outputs": [],
   "source": [
    "house = pd.read_csv(\"Boston.csv\")\n",
    "# house.keys()\n",
    "# house.head"
   ]
  },
  {
   "cell_type": "code",
   "execution_count": 3,
   "id": "75f2f577",
   "metadata": {},
   "outputs": [],
   "source": [
    "from sklearn.model_selection import StratifiedShuffleSplit\n",
    "split = StratifiedShuffleSplit(n_splits=1,test_size=0.2,random_state=42)\n",
    "for train_index, test_index in split.split(house,house['chas']):\n",
    "    strat_train = house.loc[train_index]\n",
    "    strat_test = house.loc[test_index]"
   ]
  },
  {
   "cell_type": "code",
   "execution_count": 4,
   "id": "d8956691",
   "metadata": {},
   "outputs": [],
   "source": [
    "housing_data =  strat_train.copy()"
   ]
  },
  {
   "cell_type": "code",
   "execution_count": 5,
   "id": "6c6fd0f9",
   "metadata": {},
   "outputs": [],
   "source": [
    "#making pipeline to fill missing values\n",
    "x_pipeline = Pipeline([\n",
    "    (\"fill\",SimpleImputer(strategy=\"median\")),\n",
    "    (\"std_scalar\",StandardScaler())\n",
    "    ])"
   ]
  },
  {
   "cell_type": "code",
   "execution_count": 6,
   "id": "9d23a8be",
   "metadata": {},
   "outputs": [],
   "source": [
    "house_tr = x_pipeline.fit_transform(house)"
   ]
  },
  {
   "cell_type": "code",
   "execution_count": 7,
   "id": "15ef6e42",
   "metadata": {},
   "outputs": [],
   "source": [
    "house_features = strat_train.drop(\"medv\",axis=1)\n",
    "house_labels =strat_train[\"medv\"].copy()\n",
    "# house_labels"
   ]
  },
  {
   "cell_type": "code",
   "execution_count": 8,
   "id": "18dc4615",
   "metadata": {},
   "outputs": [
    {
     "data": {
      "text/plain": [
       "LinearRegression()"
      ]
     },
     "execution_count": 8,
     "metadata": {},
     "output_type": "execute_result"
    }
   ],
   "source": [
    "#model selection \n",
    "model = LinearRegression()\n",
    "model.fit(house_features,house_labels)"
   ]
  },
  {
   "cell_type": "code",
   "execution_count": 9,
   "id": "b94d4afb",
   "metadata": {},
   "outputs": [
    {
     "data": {
      "text/plain": [
       "array([16.76586261, 24.17321908, 24.75850101, 12.52404111, 32.80028344])"
      ]
     },
     "execution_count": 9,
     "metadata": {},
     "output_type": "execute_result"
    }
   ],
   "source": [
    "#checking model on some data\n",
    "some_val = house_features.iloc[5:10]\n",
    "some_label = house_labels.iloc[5:10]\n",
    "# PreparedData = x_pipeline.transform(some_val)\n",
    "model.predict(some_val)"
   ]
  },
  {
   "cell_type": "code",
   "execution_count": 10,
   "id": "1c7ae854",
   "metadata": {},
   "outputs": [],
   "source": [
    "model.fit(house_features,house_labels)\n",
    "predictions = model.predict(house_features)\n",
    "mean_sq_error = mean_squared_error(house_labels,predictions)\n",
    "error = np.sqrt(mean_sq_error)\n",
    "# print(error)"
   ]
  },
  {
   "cell_type": "code",
   "execution_count": 11,
   "id": "89920a01",
   "metadata": {},
   "outputs": [],
   "source": [
    "score = cross_val_score(model,house_features,house_labels,cv=10)\n",
    "rmse=np.sqrt(score)\n",
    "def print_score(score):\n",
    "    print(\"Scores:\", score)\n",
    "    print(\"Mean: \", score.mean())\n",
    "    print(\"Standard deviation: \", score.std())\n",
    "# print_score(rmse)"
   ]
  },
  {
   "cell_type": "code",
   "execution_count": 19,
   "id": "cf7b24a4",
   "metadata": {},
   "outputs": [
    {
     "data": {
      "text/plain": [
       "['Boston_regression.joblib']"
      ]
     },
     "execution_count": 19,
     "metadata": {},
     "output_type": "execute_result"
    }
   ],
   "source": [
    "#saving the model \n",
    "from joblib import load , dump\n",
    "dump(model, 'Boston_regression.joblib') "
   ]
  },
  {
   "cell_type": "code",
   "execution_count": 20,
   "id": "4b9f6895",
   "metadata": {
    "scrolled": true
   },
   "outputs": [
    {
     "data": {
      "text/plain": [
       "array([23.94996893])"
      ]
     },
     "execution_count": 20,
     "metadata": {},
     "output_type": "execute_result"
    }
   ],
   "source": [
    "#testing model on new data\n",
    "dataTesting = model.predict([[0.04819,80.0,3.64,0,0.392,6.108,32.0,9.2203,1,315,16.4,392.89,6.57,]])\n",
    "dataTesting"
   ]
  },
  {
   "cell_type": "code",
   "execution_count": 22,
   "id": "db045cca",
   "metadata": {},
   "outputs": [],
   "source": [
    "model2 = load(\"Boston_regression.joblib\")"
   ]
  },
  {
   "cell_type": "code",
   "execution_count": 23,
   "id": "afcc051d",
   "metadata": {},
   "outputs": [
    {
     "data": {
      "text/plain": [
       "array([23.94996893])"
      ]
     },
     "execution_count": 23,
     "metadata": {},
     "output_type": "execute_result"
    }
   ],
   "source": [
    "model2.predict([[0.04819,80.0,3.64,0,0.392,6.108,32.0,9.2203,1,315,16.4,392.89,6.57,]])"
   ]
  },
  {
   "cell_type": "code",
   "execution_count": null,
   "id": "e1f7fe40",
   "metadata": {},
   "outputs": [],
   "source": []
  }
 ],
 "metadata": {
  "kernelspec": {
   "display_name": "Python 3 (ipykernel)",
   "language": "python",
   "name": "python3"
  },
  "language_info": {
   "codemirror_mode": {
    "name": "ipython",
    "version": 3
   },
   "file_extension": ".py",
   "mimetype": "text/x-python",
   "name": "python",
   "nbconvert_exporter": "python",
   "pygments_lexer": "ipython3",
   "version": "3.9.6"
  }
 },
 "nbformat": 4,
 "nbformat_minor": 5
}
